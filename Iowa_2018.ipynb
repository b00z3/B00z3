{
 "cells": [
  {
   "cell_type": "markdown",
   "metadata": {},
   "source": [
    "# Up-to-date liquor data\n",
    "This is a cursory analysis of the Iowa State Liquor data "
   ]
  },
  {
   "cell_type": "code",
   "execution_count": 57,
   "metadata": {},
   "outputs": [],
   "source": [
    "import pandas as pd\n",
    "import seaborn as sns\n",
    "import matplotlib.pyplot as plt\n",
    "import numpy as np"
   ]
  },
  {
   "cell_type": "markdown",
   "metadata": {},
   "source": [
    "## Some light data cleaning"
   ]
  },
  {
   "cell_type": "code",
   "execution_count": 40,
   "metadata": {},
   "outputs": [],
   "source": [
    "# Loading in the small version, uncomment below for full\n",
    "# df = pd.read_csv('Data/Iowa_Liquor_Sales.csv')\n",
    "df = pd.read_csv('Data/Iowa_Liquor_Sales_Small.csv')\n",
    "\n",
    "df['Date'] = pd.to_datetime(df['Date'], format='%m/%d/%Y')\n",
    "\n",
    "df.drop('Volume Sold (Gallons)', axis=1, inplace=True) # Already have in litres\n",
    "df.drop('Invoice/Item Number', axis=1, inplace=True) # Not significant\n",
    "df.drop('Store Number', axis=1, inplace=True) # Not significant\n",
    "df.drop('Vendor Number', axis=1, inplace=True) # Not significant\n",
    "df.drop('Address', axis=1, inplace=True) # Can reverse from zip+store location\n"
   ]
  },
  {
   "cell_type": "code",
   "execution_count": 41,
   "metadata": {},
   "outputs": [],
   "source": [
    "#rename the columns\n",
    "cols = [\n",
    "    'date', 'store', 'city', 'zip', 'store_location', 'county_num', 'county', 'cat', \n",
    "    'cat_name', 'vendor', 'item_num', 'item', 'pack_size', 'bottle_vol', 'bottle_cost',\n",
    "    'bottle_cost_retail', 'bottles_sold', 'sales', 'volume_sold'\n",
    "]\n",
    "df.columns = cols"
   ]
  },
  {
   "cell_type": "code",
   "execution_count": 42,
   "metadata": {},
   "outputs": [
    {
     "data": {
      "text/plain": [
       "Index(['date', 'store', 'city', 'zip', 'store_location', 'county_num',\n",
       "       'county', 'cat', 'cat_name', 'vendor', 'item_num', 'item', 'pack_size',\n",
       "       'bottle_vol', 'bottle_cost', 'bottle_cost_retail', 'bottles_sold',\n",
       "       'sales', 'volume_sold'],\n",
       "      dtype='object')"
      ]
     },
     "execution_count": 42,
     "metadata": {},
     "output_type": "execute_result"
    }
   ],
   "source": [
    "df.columns"
   ]
  },
  {
   "cell_type": "code",
   "execution_count": 43,
   "metadata": {},
   "outputs": [
    {
     "data": {
      "text/plain": [
       "(99999, 19)"
      ]
     },
     "execution_count": 43,
     "metadata": {},
     "output_type": "execute_result"
    }
   ],
   "source": [
    "df.shape"
   ]
  },
  {
   "cell_type": "markdown",
   "metadata": {},
   "source": [
    "## Exploration"
   ]
  },
  {
   "cell_type": "code",
   "execution_count": 44,
   "metadata": {},
   "outputs": [],
   "source": [
    "df['year'] = df['date'].dt.year\n",
    "df['month'] = df['date'].dt.month"
   ]
  },
  {
   "cell_type": "code",
   "execution_count": 47,
   "metadata": {},
   "outputs": [
    {
     "data": {
      "image/png": "[encoded data removed]",
      "text/plain": [
       "<Figure size 432x288 with 2 Axes>"
      ]
     },
     "metadata": {
      "needs_background": "light"
     },
     "output_type": "display_data"
    }
   ],
   "source": [
    "sns.heatmap(df.corr());"
   ]
  },
  {
   "cell_type": "markdown",
   "metadata": {},
   "source": [
    "Next, I'm going to add the population data and see if that affects any metrics"
   ]
  },
  {
   "cell_type": "code",
   "execution_count": 76,
   "metadata": {},
   "outputs": [
    {
     "data": {
      "text/html": [
       "<div>\n",
       "<style scoped>\n",
       "    .dataframe tbody tr th:only-of-type {\n",
       "        vertical-align: middle;\n",
       "    }\n",
       "\n",
       "    .dataframe tbody tr th {\n",
       "        vertical-align: top;\n",
       "    }\n",
       "\n",
       "    .dataframe thead th {\n",
       "        text-align: right;\n",
       "    }\n",
       "</style>\n",
       "<table border=\"1\" class=\"dataframe\">\n",
       "  <thead>\n",
       "    <tr style=\"text-align: right;\">\n",
       "      <th></th>\n",
       "      <th>county</th>\n",
       "      <th>county_population</th>\n",
       "    </tr>\n",
       "  </thead>\n",
       "  <tbody>\n",
       "    <tr>\n",
       "      <th>0</th>\n",
       "      <td>POLK</td>\n",
       "      <td>487204</td>\n",
       "    </tr>\n",
       "    <tr>\n",
       "      <th>1</th>\n",
       "      <td>LINN</td>\n",
       "      <td>225909</td>\n",
       "    </tr>\n",
       "    <tr>\n",
       "      <th>2</th>\n",
       "      <td>SCOTT</td>\n",
       "      <td>173283</td>\n",
       "    </tr>\n",
       "    <tr>\n",
       "      <th>3</th>\n",
       "      <td>JOHNSON</td>\n",
       "      <td>151260</td>\n",
       "    </tr>\n",
       "    <tr>\n",
       "      <th>4</th>\n",
       "      <td>BLACK HAWK</td>\n",
       "      <td>132408</td>\n",
       "    </tr>\n",
       "  </tbody>\n",
       "</table>\n",
       "</div>"
      ],
      "text/plain": [
       "       county  county_population\n",
       "0        POLK             487204\n",
       "1        LINN             225909\n",
       "2       SCOTT             173283\n",
       "3     JOHNSON             151260\n",
       "4  BLACK HAWK             132408"
      ]
     },
     "execution_count": 76,
     "metadata": {},
     "output_type": "execute_result"
    }
   ],
   "source": [
    "pop = pd.read_csv('Data/Iowa_population_by_county.csv')\n",
    "pop['CTYNAME'] = pop['CTYNAME'].map(lambda x: x.replace(' County', '').upper())\n",
    "pop.columns = ['county', 'county_population', 'county_growth_rate'] \n",
    "pop = pop.drop('county_growth_rate', axis=1)\n",
    "pop.head()"
   ]
  },
  {
   "cell_type": "code",
   "execution_count": 159,
   "metadata": {},
   "outputs": [],
   "source": [
    "df_pop = pd.merge(df, pop, on='county')\n",
    "\n",
    "df_pop = df_pop.drop('year', axis=1)"
   ]
  },
  {
   "cell_type": "code",
   "execution_count": 160,
   "metadata": {},
   "outputs": [
    {
     "data": {
      "text/html": [
       "<div>\n",
       "<style scoped>\n",
       "    .dataframe tbody tr th:only-of-type {\n",
       "        vertical-align: middle;\n",
       "    }\n",
       "\n",
       "    .dataframe tbody tr th {\n",
       "        vertical-align: top;\n",
       "    }\n",
       "\n",
       "    .dataframe thead th {\n",
       "        text-align: right;\n",
       "    }\n",
       "</style>\n",
       "<table border=\"1\" class=\"dataframe\">\n",
       "  <thead>\n",
       "    <tr style=\"text-align: right;\">\n",
       "      <th></th>\n",
       "      <th>date</th>\n",
       "      <th>store</th>\n",
       "      <th>city</th>\n",
       "      <th>zip</th>\n",
       "      <th>store_location</th>\n",
       "      <th>county_num</th>\n",
       "      <th>county</th>\n",
       "      <th>cat</th>\n",
       "      <th>cat_name</th>\n",
       "      <th>vendor</th>\n",
       "      <th>...</th>\n",
       "      <th>item</th>\n",
       "      <th>pack_size</th>\n",
       "      <th>bottle_vol</th>\n",
       "      <th>bottle_cost</th>\n",
       "      <th>bottle_cost_retail</th>\n",
       "      <th>bottles_sold</th>\n",
       "      <th>sales</th>\n",
       "      <th>volume_sold</th>\n",
       "      <th>month</th>\n",
       "      <th>county_population</th>\n",
       "    </tr>\n",
       "  </thead>\n",
       "  <tbody>\n",
       "    <tr>\n",
       "      <th>0</th>\n",
       "      <td>2018-06-20</td>\n",
       "      <td>Wheatland Day Break</td>\n",
       "      <td>Wheatland</td>\n",
       "      <td>52777.0</td>\n",
       "      <td>POINT (-90.841518 41.82906)</td>\n",
       "      <td>23.0</td>\n",
       "      <td>CLINTON</td>\n",
       "      <td>1062400.0</td>\n",
       "      <td>Spiced Rum</td>\n",
       "      <td>DIAGEO AMERICAS</td>\n",
       "      <td>...</td>\n",
       "      <td>Captain Morgan Spiced Rum Mini</td>\n",
       "      <td>12</td>\n",
       "      <td>500</td>\n",
       "      <td>4.80</td>\n",
       "      <td>7.20</td>\n",
       "      <td>1</td>\n",
       "      <td>7.20</td>\n",
       "      <td>0.50</td>\n",
       "      <td>6</td>\n",
       "      <td>46518</td>\n",
       "    </tr>\n",
       "    <tr>\n",
       "      <th>1</th>\n",
       "      <td>2018-06-20</td>\n",
       "      <td>Hy-Vee Food and Drug / Clinton</td>\n",
       "      <td>Clinton</td>\n",
       "      <td>52732.0</td>\n",
       "      <td>POINT (-90.193204 41.836268000000004)</td>\n",
       "      <td>23.0</td>\n",
       "      <td>CLINTON</td>\n",
       "      <td>1031200.0</td>\n",
       "      <td>American Flavored Vodka</td>\n",
       "      <td>JEM Beverage Company</td>\n",
       "      <td>...</td>\n",
       "      <td>Western Son Blueberry Vodka Mini</td>\n",
       "      <td>6</td>\n",
       "      <td>50</td>\n",
       "      <td>4.83</td>\n",
       "      <td>7.25</td>\n",
       "      <td>4</td>\n",
       "      <td>29.00</td>\n",
       "      <td>0.20</td>\n",
       "      <td>6</td>\n",
       "      <td>46518</td>\n",
       "    </tr>\n",
       "    <tr>\n",
       "      <th>2</th>\n",
       "      <td>2018-06-20</td>\n",
       "      <td>Wal-Mart 2889 / Clinton</td>\n",
       "      <td>Clinton</td>\n",
       "      <td>52732.0</td>\n",
       "      <td>POINT (-90.245005 41.818874)</td>\n",
       "      <td>23.0</td>\n",
       "      <td>CLINTON</td>\n",
       "      <td>1011400.0</td>\n",
       "      <td>Tennessee Whiskies</td>\n",
       "      <td>Brown Forman Corp.</td>\n",
       "      <td>...</td>\n",
       "      <td>Jack Daniels Old #7 Black Lbl</td>\n",
       "      <td>12</td>\n",
       "      <td>750</td>\n",
       "      <td>15.57</td>\n",
       "      <td>23.36</td>\n",
       "      <td>24</td>\n",
       "      <td>560.64</td>\n",
       "      <td>18.00</td>\n",
       "      <td>6</td>\n",
       "      <td>46518</td>\n",
       "    </tr>\n",
       "    <tr>\n",
       "      <th>3</th>\n",
       "      <td>2018-06-20</td>\n",
       "      <td>Hy-Vee Food and Drug / Clinton</td>\n",
       "      <td>Clinton</td>\n",
       "      <td>52732.0</td>\n",
       "      <td>POINT (-90.193204 41.836268000000004)</td>\n",
       "      <td>23.0</td>\n",
       "      <td>CLINTON</td>\n",
       "      <td>1081200.0</td>\n",
       "      <td>Cream Liqueurs</td>\n",
       "      <td>DIAGEO AMERICAS</td>\n",
       "      <td>...</td>\n",
       "      <td>Godiva Liqueur</td>\n",
       "      <td>12</td>\n",
       "      <td>750</td>\n",
       "      <td>17.00</td>\n",
       "      <td>25.50</td>\n",
       "      <td>3</td>\n",
       "      <td>76.50</td>\n",
       "      <td>2.25</td>\n",
       "      <td>6</td>\n",
       "      <td>46518</td>\n",
       "    </tr>\n",
       "    <tr>\n",
       "      <th>4</th>\n",
       "      <td>2018-06-20</td>\n",
       "      <td>Sa Tobacco Liquor Mart</td>\n",
       "      <td>Clinton</td>\n",
       "      <td>52732.0</td>\n",
       "      <td>POINT (-90.193275 41.848124)</td>\n",
       "      <td>23.0</td>\n",
       "      <td>CLINTON</td>\n",
       "      <td>1081300.0</td>\n",
       "      <td>American Cordials &amp; Liqueur</td>\n",
       "      <td>Prestige Wine &amp; Spirits Group</td>\n",
       "      <td>...</td>\n",
       "      <td>Kinky Liqueur</td>\n",
       "      <td>12</td>\n",
       "      <td>375</td>\n",
       "      <td>5.00</td>\n",
       "      <td>7.50</td>\n",
       "      <td>1</td>\n",
       "      <td>7.50</td>\n",
       "      <td>0.38</td>\n",
       "      <td>6</td>\n",
       "      <td>46518</td>\n",
       "    </tr>\n",
       "  </tbody>\n",
       "</table>\n",
       "<p>5 rows × 21 columns</p>\n",
       "</div>"
      ],
      "text/plain": [
       "        date                           store       city      zip  \\\n",
       "0 2018-06-20             Wheatland Day Break  Wheatland  52777.0   \n",
       "1 2018-06-20  Hy-Vee Food and Drug / Clinton    Clinton  52732.0   \n",
       "2 2018-06-20         Wal-Mart 2889 / Clinton    Clinton  52732.0   \n",
       "3 2018-06-20  Hy-Vee Food and Drug / Clinton    Clinton  52732.0   \n",
       "4 2018-06-20          Sa Tobacco Liquor Mart    Clinton  52732.0   \n",
       "\n",
       "                          store_location  county_num   county        cat  \\\n",
       "0            POINT (-90.841518 41.82906)        23.0  CLINTON  1062400.0   \n",
       "1  POINT (-90.193204 41.836268000000004)        23.0  CLINTON  1031200.0   \n",
       "2           POINT (-90.245005 41.818874)        23.0  CLINTON  1011400.0   \n",
       "3  POINT (-90.193204 41.836268000000004)        23.0  CLINTON  1081200.0   \n",
       "4           POINT (-90.193275 41.848124)        23.0  CLINTON  1081300.0   \n",
       "\n",
       "                      cat_name                         vendor  ...  \\\n",
       "0                   Spiced Rum                DIAGEO AMERICAS  ...   \n",
       "1      American Flavored Vodka           JEM Beverage Company  ...   \n",
       "2           Tennessee Whiskies             Brown Forman Corp.  ...   \n",
       "3               Cream Liqueurs                DIAGEO AMERICAS  ...   \n",
       "4  American Cordials & Liqueur  Prestige Wine & Spirits Group  ...   \n",
       "\n",
       "                               item pack_size  bottle_vol  bottle_cost  \\\n",
       "0    Captain Morgan Spiced Rum Mini        12         500         4.80   \n",
       "1  Western Son Blueberry Vodka Mini         6          50         4.83   \n",
       "2     Jack Daniels Old #7 Black Lbl        12         750        15.57   \n",
       "3                    Godiva Liqueur        12         750        17.00   \n",
       "4                     Kinky Liqueur        12         375         5.00   \n",
       "\n",
       "   bottle_cost_retail  bottles_sold   sales  volume_sold  month  \\\n",
       "0                7.20             1    7.20         0.50      6   \n",
       "1                7.25             4   29.00         0.20      6   \n",
       "2               23.36            24  560.64        18.00      6   \n",
       "3               25.50             3   76.50         2.25      6   \n",
       "4                7.50             1    7.50         0.38      6   \n",
       "\n",
       "   county_population  \n",
       "0              46518  \n",
       "1              46518  \n",
       "2              46518  \n",
       "3              46518  \n",
       "4              46518  \n",
       "\n",
       "[5 rows x 21 columns]"
      ]
     },
     "execution_count": 160,
     "metadata": {},
     "output_type": "execute_result"
    }
   ],
   "source": [
    "df_pop.head()"
   ]
  },
  {
   "cell_type": "code",
   "execution_count": 161,
   "metadata": {},
   "outputs": [
    {
     "data": {
      "image/png": "[encoded data removed]",
      "text/plain": [
       "<Figure size 432x288 with 2 Axes>"
      ]
     },
     "metadata": {
      "needs_background": "light"
     },
     "output_type": "display_data"
    }
   ],
   "source": [
    "sns.heatmap(df_pop.corr());"
   ]
  },
  {
   "cell_type": "code",
   "execution_count": 162,
   "metadata": {},
   "outputs": [
    {
     "data": {
      "text/plain": [
       "date                     0\n",
       "store                    0\n",
       "city                     0\n",
       "zip                      0\n",
       "store_location        8338\n",
       "county_num               0\n",
       "county                   0\n",
       "cat                     74\n",
       "cat_name                74\n",
       "vendor                   0\n",
       "item_num                 0\n",
       "item                     0\n",
       "pack_size                0\n",
       "bottle_vol               0\n",
       "bottle_cost              0\n",
       "bottle_cost_retail       0\n",
       "bottles_sold             0\n",
       "sales                    0\n",
       "volume_sold              0\n",
       "month                    0\n",
       "county_population        0\n",
       "dtype: int64"
      ]
     },
     "execution_count": 162,
     "metadata": {},
     "output_type": "execute_result"
    }
   ],
   "source": [
    "df_pop.isnull().sum()"
   ]
  },
  {
   "cell_type": "code",
   "execution_count": 163,
   "metadata": {},
   "outputs": [],
   "source": [
    "top_categories = df_pop['cat_name'].value_counts()"
   ]
  },
  {
   "cell_type": "code",
   "execution_count": 164,
   "metadata": {},
   "outputs": [],
   "source": [
    "tc = top_categories.to_dict()"
   ]
  },
  {
   "cell_type": "code",
   "execution_count": 165,
   "metadata": {},
   "outputs": [
    {
     "data": {
      "image/png": "[encoded data removed]",
      "text/plain": [
       "<Figure size 432x288 with 1 Axes>"
      ]
     },
     "metadata": {
      "needs_background": "light"
     },
     "output_type": "display_data"
    }
   ],
   "source": [
    "top_categories.plot.bar();"
   ]
  },
  {
   "cell_type": "code",
   "execution_count": 166,
   "metadata": {},
   "outputs": [],
   "source": [
    "from itertools import islice\n",
    "\n",
    "def take(n, iterable):\n",
    "    \"Return first n items of the iterable as a list\"\n",
    "    return list(islice(iterable, n))"
   ]
  },
  {
   "cell_type": "code",
   "execution_count": 175,
   "metadata": {},
   "outputs": [
    {
     "data": {
      "text/plain": [
       "{'100% Agave Tequila',\n",
       " 'American Brandies',\n",
       " 'American Cordials & Liqueur',\n",
       " 'American Dry Gins',\n",
       " 'American Flavored Vodka',\n",
       " 'American Schnapps',\n",
       " 'American Vodkas',\n",
       " 'Blended Whiskies',\n",
       " 'Canadian Whiskies',\n",
       " 'Cocktails /RTD',\n",
       " 'Cream Liqueurs',\n",
       " 'Flavored Rum',\n",
       " 'Gold Rum',\n",
       " 'Imported Brandies',\n",
       " 'Imported Cordials & Liqueurs',\n",
       " 'Imported Dry Gins',\n",
       " 'Imported Flavored Vodka',\n",
       " 'Imported Schnapps',\n",
       " 'Imported Vodkas',\n",
       " 'Irish Whiskies',\n",
       " 'Mixto Tequila',\n",
       " 'Scotch Whiskies',\n",
       " 'Single Malt Scotch',\n",
       " 'Spiced Rum',\n",
       " 'Straight Bourbon Whiskies',\n",
       " 'Straight Rye Whiskies',\n",
       " 'Temporary & Specialty Packages',\n",
       " 'Tennessee Whiskies',\n",
       " 'Whiskey Liqueur',\n",
       " 'White Rum'}"
      ]
     },
     "execution_count": 175,
     "metadata": {},
     "output_type": "execute_result"
    }
   ],
   "source": [
    "df_cats = df_pop.copy()\n",
    "n = 30\n",
    "top_n_cats = set(take(n, tc.keys()))\n",
    "top_n_cats"
   ]
  },
  {
   "cell_type": "code",
   "execution_count": 176,
   "metadata": {},
   "outputs": [],
   "source": [
    "to_other = lambda x: x if x in top_n_cats else 'other' # Now it's just the top n categories + others (for one hot)\n",
    "df_cats['cat_name'] = df_cats['cat_name'].map(to_other)"
   ]
  },
  {
   "cell_type": "code",
   "execution_count": 177,
   "metadata": {},
   "outputs": [
    {
     "data": {
      "text/html": [
       "<div>\n",
       "<style scoped>\n",
       "    .dataframe tbody tr th:only-of-type {\n",
       "        vertical-align: middle;\n",
       "    }\n",
       "\n",
       "    .dataframe tbody tr th {\n",
       "        vertical-align: top;\n",
       "    }\n",
       "\n",
       "    .dataframe thead th {\n",
       "        text-align: right;\n",
       "    }\n",
       "</style>\n",
       "<table border=\"1\" class=\"dataframe\">\n",
       "  <thead>\n",
       "    <tr style=\"text-align: right;\">\n",
       "      <th></th>\n",
       "      <th>date</th>\n",
       "      <th>store</th>\n",
       "      <th>city</th>\n",
       "      <th>zip</th>\n",
       "      <th>store_location</th>\n",
       "      <th>county_num</th>\n",
       "      <th>county</th>\n",
       "      <th>cat</th>\n",
       "      <th>cat_name</th>\n",
       "      <th>vendor</th>\n",
       "      <th>...</th>\n",
       "      <th>item</th>\n",
       "      <th>pack_size</th>\n",
       "      <th>bottle_vol</th>\n",
       "      <th>bottle_cost</th>\n",
       "      <th>bottle_cost_retail</th>\n",
       "      <th>bottles_sold</th>\n",
       "      <th>sales</th>\n",
       "      <th>volume_sold</th>\n",
       "      <th>month</th>\n",
       "      <th>county_population</th>\n",
       "    </tr>\n",
       "  </thead>\n",
       "  <tbody>\n",
       "    <tr>\n",
       "      <th>0</th>\n",
       "      <td>2018-06-20</td>\n",
       "      <td>Wheatland Day Break</td>\n",
       "      <td>Wheatland</td>\n",
       "      <td>52777.0</td>\n",
       "      <td>POINT (-90.841518 41.82906)</td>\n",
       "      <td>23.0</td>\n",
       "      <td>CLINTON</td>\n",
       "      <td>1062400.0</td>\n",
       "      <td>Spiced Rum</td>\n",
       "      <td>DIAGEO AMERICAS</td>\n",
       "      <td>...</td>\n",
       "      <td>Captain Morgan Spiced Rum Mini</td>\n",
       "      <td>12</td>\n",
       "      <td>500</td>\n",
       "      <td>4.80</td>\n",
       "      <td>7.20</td>\n",
       "      <td>1</td>\n",
       "      <td>7.20</td>\n",
       "      <td>0.50</td>\n",
       "      <td>6</td>\n",
       "      <td>46518</td>\n",
       "    </tr>\n",
       "    <tr>\n",
       "      <th>1</th>\n",
       "      <td>2018-06-20</td>\n",
       "      <td>Hy-Vee Food and Drug / Clinton</td>\n",
       "      <td>Clinton</td>\n",
       "      <td>52732.0</td>\n",
       "      <td>POINT (-90.193204 41.836268000000004)</td>\n",
       "      <td>23.0</td>\n",
       "      <td>CLINTON</td>\n",
       "      <td>1031200.0</td>\n",
       "      <td>American Flavored Vodka</td>\n",
       "      <td>JEM Beverage Company</td>\n",
       "      <td>...</td>\n",
       "      <td>Western Son Blueberry Vodka Mini</td>\n",
       "      <td>6</td>\n",
       "      <td>50</td>\n",
       "      <td>4.83</td>\n",
       "      <td>7.25</td>\n",
       "      <td>4</td>\n",
       "      <td>29.00</td>\n",
       "      <td>0.20</td>\n",
       "      <td>6</td>\n",
       "      <td>46518</td>\n",
       "    </tr>\n",
       "    <tr>\n",
       "      <th>2</th>\n",
       "      <td>2018-06-20</td>\n",
       "      <td>Wal-Mart 2889 / Clinton</td>\n",
       "      <td>Clinton</td>\n",
       "      <td>52732.0</td>\n",
       "      <td>POINT (-90.245005 41.818874)</td>\n",
       "      <td>23.0</td>\n",
       "      <td>CLINTON</td>\n",
       "      <td>1011400.0</td>\n",
       "      <td>Tennessee Whiskies</td>\n",
       "      <td>Brown Forman Corp.</td>\n",
       "      <td>...</td>\n",
       "      <td>Jack Daniels Old #7 Black Lbl</td>\n",
       "      <td>12</td>\n",
       "      <td>750</td>\n",
       "      <td>15.57</td>\n",
       "      <td>23.36</td>\n",
       "      <td>24</td>\n",
       "      <td>560.64</td>\n",
       "      <td>18.00</td>\n",
       "      <td>6</td>\n",
       "      <td>46518</td>\n",
       "    </tr>\n",
       "    <tr>\n",
       "      <th>3</th>\n",
       "      <td>2018-06-20</td>\n",
       "      <td>Hy-Vee Food and Drug / Clinton</td>\n",
       "      <td>Clinton</td>\n",
       "      <td>52732.0</td>\n",
       "      <td>POINT (-90.193204 41.836268000000004)</td>\n",
       "      <td>23.0</td>\n",
       "      <td>CLINTON</td>\n",
       "      <td>1081200.0</td>\n",
       "      <td>Cream Liqueurs</td>\n",
       "      <td>DIAGEO AMERICAS</td>\n",
       "      <td>...</td>\n",
       "      <td>Godiva Liqueur</td>\n",
       "      <td>12</td>\n",
       "      <td>750</td>\n",
       "      <td>17.00</td>\n",
       "      <td>25.50</td>\n",
       "      <td>3</td>\n",
       "      <td>76.50</td>\n",
       "      <td>2.25</td>\n",
       "      <td>6</td>\n",
       "      <td>46518</td>\n",
       "    </tr>\n",
       "    <tr>\n",
       "      <th>4</th>\n",
       "      <td>2018-06-20</td>\n",
       "      <td>Sa Tobacco Liquor Mart</td>\n",
       "      <td>Clinton</td>\n",
       "      <td>52732.0</td>\n",
       "      <td>POINT (-90.193275 41.848124)</td>\n",
       "      <td>23.0</td>\n",
       "      <td>CLINTON</td>\n",
       "      <td>1081300.0</td>\n",
       "      <td>American Cordials &amp; Liqueur</td>\n",
       "      <td>Prestige Wine &amp; Spirits Group</td>\n",
       "      <td>...</td>\n",
       "      <td>Kinky Liqueur</td>\n",
       "      <td>12</td>\n",
       "      <td>375</td>\n",
       "      <td>5.00</td>\n",
       "      <td>7.50</td>\n",
       "      <td>1</td>\n",
       "      <td>7.50</td>\n",
       "      <td>0.38</td>\n",
       "      <td>6</td>\n",
       "      <td>46518</td>\n",
       "    </tr>\n",
       "  </tbody>\n",
       "</table>\n",
       "<p>5 rows × 21 columns</p>\n",
       "</div>"
      ],
      "text/plain": [
       "        date                           store       city      zip  \\\n",
       "0 2018-06-20             Wheatland Day Break  Wheatland  52777.0   \n",
       "1 2018-06-20  Hy-Vee Food and Drug / Clinton    Clinton  52732.0   \n",
       "2 2018-06-20         Wal-Mart 2889 / Clinton    Clinton  52732.0   \n",
       "3 2018-06-20  Hy-Vee Food and Drug / Clinton    Clinton  52732.0   \n",
       "4 2018-06-20          Sa Tobacco Liquor Mart    Clinton  52732.0   \n",
       "\n",
       "                          store_location  county_num   county        cat  \\\n",
       "0            POINT (-90.841518 41.82906)        23.0  CLINTON  1062400.0   \n",
       "1  POINT (-90.193204 41.836268000000004)        23.0  CLINTON  1031200.0   \n",
       "2           POINT (-90.245005 41.818874)        23.0  CLINTON  1011400.0   \n",
       "3  POINT (-90.193204 41.836268000000004)        23.0  CLINTON  1081200.0   \n",
       "4           POINT (-90.193275 41.848124)        23.0  CLINTON  1081300.0   \n",
       "\n",
       "                      cat_name                         vendor  ...  \\\n",
       "0                   Spiced Rum                DIAGEO AMERICAS  ...   \n",
       "1      American Flavored Vodka           JEM Beverage Company  ...   \n",
       "2           Tennessee Whiskies             Brown Forman Corp.  ...   \n",
       "3               Cream Liqueurs                DIAGEO AMERICAS  ...   \n",
       "4  American Cordials & Liqueur  Prestige Wine & Spirits Group  ...   \n",
       "\n",
       "                               item pack_size  bottle_vol  bottle_cost  \\\n",
       "0    Captain Morgan Spiced Rum Mini        12         500         4.80   \n",
       "1  Western Son Blueberry Vodka Mini         6          50         4.83   \n",
       "2     Jack Daniels Old #7 Black Lbl        12         750        15.57   \n",
       "3                    Godiva Liqueur        12         750        17.00   \n",
       "4                     Kinky Liqueur        12         375         5.00   \n",
       "\n",
       "   bottle_cost_retail  bottles_sold   sales  volume_sold  month  \\\n",
       "0                7.20             1    7.20         0.50      6   \n",
       "1                7.25             4   29.00         0.20      6   \n",
       "2               23.36            24  560.64        18.00      6   \n",
       "3               25.50             3   76.50         2.25      6   \n",
       "4                7.50             1    7.50         0.38      6   \n",
       "\n",
       "   county_population  \n",
       "0              46518  \n",
       "1              46518  \n",
       "2              46518  \n",
       "3              46518  \n",
       "4              46518  \n",
       "\n",
       "[5 rows x 21 columns]"
      ]
     },
     "execution_count": 177,
     "metadata": {},
     "output_type": "execute_result"
    }
   ],
   "source": [
    "df_pop.head()"
   ]
  },
  {
   "cell_type": "code",
   "execution_count": 180,
   "metadata": {},
   "outputs": [
    {
     "data": {
      "text/plain": [
       "<matplotlib.axes._subplots.AxesSubplot at 0x1280caa50>"
      ]
     },
     "execution_count": 180,
     "metadata": {},
     "output_type": "execute_result"
    },
    {
     "data": {
      "image/png": "[encoded data removed]",
      "text/plain": [
       "<Figure size 432x288 with 1 Axes>"
      ]
     },
     "metadata": {
      "needs_background": "light"
     },
     "output_type": "display_data"
    }
   ],
   "source": [
    "df_cats['cat_name'].value_counts().plot.bar()"
   ]
  },
  {
   "cell_type": "code",
   "execution_count": 184,
   "metadata": {},
   "outputs": [],
   "source": [
    "df_oh = df_cats.copy()\n",
    "df_oh = df_oh.join(pd.get_dummies(df_cats['cat_name']))"
   ]
  },
  {
   "cell_type": "code",
   "execution_count": 186,
   "metadata": {},
   "outputs": [
    {
     "data": {
      "text/html": [
       "<div>\n",
       "<style scoped>\n",
       "    .dataframe tbody tr th:only-of-type {\n",
       "        vertical-align: middle;\n",
       "    }\n",
       "\n",
       "    .dataframe tbody tr th {\n",
       "        vertical-align: top;\n",
       "    }\n",
       "\n",
       "    .dataframe thead th {\n",
       "        text-align: right;\n",
       "    }\n",
       "</style>\n",
       "<table border=\"1\" class=\"dataframe\">\n",
       "  <thead>\n",
       "    <tr style=\"text-align: right;\">\n",
       "      <th></th>\n",
       "      <th>date</th>\n",
       "      <th>store</th>\n",
       "      <th>city</th>\n",
       "      <th>zip</th>\n",
       "      <th>store_location</th>\n",
       "      <th>county_num</th>\n",
       "      <th>county</th>\n",
       "      <th>cat</th>\n",
       "      <th>cat_name</th>\n",
       "      <th>vendor</th>\n",
       "      <th>...</th>\n",
       "      <th>Scotch Whiskies</th>\n",
       "      <th>Single Malt Scotch</th>\n",
       "      <th>Spiced Rum</th>\n",
       "      <th>Straight Bourbon Whiskies</th>\n",
       "      <th>Straight Rye Whiskies</th>\n",
       "      <th>Temporary &amp; Specialty Packages</th>\n",
       "      <th>Tennessee Whiskies</th>\n",
       "      <th>Whiskey Liqueur</th>\n",
       "      <th>White Rum</th>\n",
       "      <th>other</th>\n",
       "    </tr>\n",
       "  </thead>\n",
       "  <tbody>\n",
       "    <tr>\n",
       "      <th>0</th>\n",
       "      <td>2018-06-20</td>\n",
       "      <td>Wheatland Day Break</td>\n",
       "      <td>Wheatland</td>\n",
       "      <td>52777.0</td>\n",
       "      <td>POINT (-90.841518 41.82906)</td>\n",
       "      <td>23.0</td>\n",
       "      <td>CLINTON</td>\n",
       "      <td>1062400.0</td>\n",
       "      <td>Spiced Rum</td>\n",
       "      <td>DIAGEO AMERICAS</td>\n",
       "      <td>...</td>\n",
       "      <td>0</td>\n",
       "      <td>0</td>\n",
       "      <td>1</td>\n",
       "      <td>0</td>\n",
       "      <td>0</td>\n",
       "      <td>0</td>\n",
       "      <td>0</td>\n",
       "      <td>0</td>\n",
       "      <td>0</td>\n",
       "      <td>0</td>\n",
       "    </tr>\n",
       "    <tr>\n",
       "      <th>1</th>\n",
       "      <td>2018-06-20</td>\n",
       "      <td>Hy-Vee Food and Drug / Clinton</td>\n",
       "      <td>Clinton</td>\n",
       "      <td>52732.0</td>\n",
       "      <td>POINT (-90.193204 41.836268000000004)</td>\n",
       "      <td>23.0</td>\n",
       "      <td>CLINTON</td>\n",
       "      <td>1031200.0</td>\n",
       "      <td>American Flavored Vodka</td>\n",
       "      <td>JEM Beverage Company</td>\n",
       "      <td>...</td>\n",
       "      <td>0</td>\n",
       "      <td>0</td>\n",
       "      <td>0</td>\n",
       "      <td>0</td>\n",
       "      <td>0</td>\n",
       "      <td>0</td>\n",
       "      <td>0</td>\n",
       "      <td>0</td>\n",
       "      <td>0</td>\n",
       "      <td>0</td>\n",
       "    </tr>\n",
       "    <tr>\n",
       "      <th>2</th>\n",
       "      <td>2018-06-20</td>\n",
       "      <td>Wal-Mart 2889 / Clinton</td>\n",
       "      <td>Clinton</td>\n",
       "      <td>52732.0</td>\n",
       "      <td>POINT (-90.245005 41.818874)</td>\n",
       "      <td>23.0</td>\n",
       "      <td>CLINTON</td>\n",
       "      <td>1011400.0</td>\n",
       "      <td>Tennessee Whiskies</td>\n",
       "      <td>Brown Forman Corp.</td>\n",
       "      <td>...</td>\n",
       "      <td>0</td>\n",
       "      <td>0</td>\n",
       "      <td>0</td>\n",
       "      <td>0</td>\n",
       "      <td>0</td>\n",
       "      <td>0</td>\n",
       "      <td>1</td>\n",
       "      <td>0</td>\n",
       "      <td>0</td>\n",
       "      <td>0</td>\n",
       "    </tr>\n",
       "    <tr>\n",
       "      <th>3</th>\n",
       "      <td>2018-06-20</td>\n",
       "      <td>Hy-Vee Food and Drug / Clinton</td>\n",
       "      <td>Clinton</td>\n",
       "      <td>52732.0</td>\n",
       "      <td>POINT (-90.193204 41.836268000000004)</td>\n",
       "      <td>23.0</td>\n",
       "      <td>CLINTON</td>\n",
       "      <td>1081200.0</td>\n",
       "      <td>Cream Liqueurs</td>\n",
       "      <td>DIAGEO AMERICAS</td>\n",
       "      <td>...</td>\n",
       "      <td>0</td>\n",
       "      <td>0</td>\n",
       "      <td>0</td>\n",
       "      <td>0</td>\n",
       "      <td>0</td>\n",
       "      <td>0</td>\n",
       "      <td>0</td>\n",
       "      <td>0</td>\n",
       "      <td>0</td>\n",
       "      <td>0</td>\n",
       "    </tr>\n",
       "    <tr>\n",
       "      <th>4</th>\n",
       "      <td>2018-06-20</td>\n",
       "      <td>Sa Tobacco Liquor Mart</td>\n",
       "      <td>Clinton</td>\n",
       "      <td>52732.0</td>\n",
       "      <td>POINT (-90.193275 41.848124)</td>\n",
       "      <td>23.0</td>\n",
       "      <td>CLINTON</td>\n",
       "      <td>1081300.0</td>\n",
       "      <td>American Cordials &amp; Liqueur</td>\n",
       "      <td>Prestige Wine &amp; Spirits Group</td>\n",
       "      <td>...</td>\n",
       "      <td>0</td>\n",
       "      <td>0</td>\n",
       "      <td>0</td>\n",
       "      <td>0</td>\n",
       "      <td>0</td>\n",
       "      <td>0</td>\n",
       "      <td>0</td>\n",
       "      <td>0</td>\n",
       "      <td>0</td>\n",
       "      <td>0</td>\n",
       "    </tr>\n",
       "  </tbody>\n",
       "</table>\n",
       "<p>5 rows × 52 columns</p>\n",
       "</div>"
      ],
      "text/plain": [
       "        date                           store       city      zip  \\\n",
       "0 2018-06-20             Wheatland Day Break  Wheatland  52777.0   \n",
       "1 2018-06-20  Hy-Vee Food and Drug / Clinton    Clinton  52732.0   \n",
       "2 2018-06-20         Wal-Mart 2889 / Clinton    Clinton  52732.0   \n",
       "3 2018-06-20  Hy-Vee Food and Drug / Clinton    Clinton  52732.0   \n",
       "4 2018-06-20          Sa Tobacco Liquor Mart    Clinton  52732.0   \n",
       "\n",
       "                          store_location  county_num   county        cat  \\\n",
       "0            POINT (-90.841518 41.82906)        23.0  CLINTON  1062400.0   \n",
       "1  POINT (-90.193204 41.836268000000004)        23.0  CLINTON  1031200.0   \n",
       "2           POINT (-90.245005 41.818874)        23.0  CLINTON  1011400.0   \n",
       "3  POINT (-90.193204 41.836268000000004)        23.0  CLINTON  1081200.0   \n",
       "4           POINT (-90.193275 41.848124)        23.0  CLINTON  1081300.0   \n",
       "\n",
       "                      cat_name                         vendor  ...  \\\n",
       "0                   Spiced Rum                DIAGEO AMERICAS  ...   \n",
       "1      American Flavored Vodka           JEM Beverage Company  ...   \n",
       "2           Tennessee Whiskies             Brown Forman Corp.  ...   \n",
       "3               Cream Liqueurs                DIAGEO AMERICAS  ...   \n",
       "4  American Cordials & Liqueur  Prestige Wine & Spirits Group  ...   \n",
       "\n",
       "   Scotch Whiskies Single Malt Scotch  Spiced Rum  Straight Bourbon Whiskies  \\\n",
       "0                0                  0           1                          0   \n",
       "1                0                  0           0                          0   \n",
       "2                0                  0           0                          0   \n",
       "3                0                  0           0                          0   \n",
       "4                0                  0           0                          0   \n",
       "\n",
       "   Straight Rye Whiskies  Temporary & Specialty Packages  Tennessee Whiskies  \\\n",
       "0                      0                               0                   0   \n",
       "1                      0                               0                   0   \n",
       "2                      0                               0                   1   \n",
       "3                      0                               0                   0   \n",
       "4                      0                               0                   0   \n",
       "\n",
       "   Whiskey Liqueur  White Rum  other  \n",
       "0                0          0      0  \n",
       "1                0          0      0  \n",
       "2                0          0      0  \n",
       "3                0          0      0  \n",
       "4                0          0      0  \n",
       "\n",
       "[5 rows x 52 columns]"
      ]
     },
     "execution_count": 186,
     "metadata": {},
     "output_type": "execute_result"
    }
   ],
   "source": [
    "df_oh.head()"
   ]
  },
  {
   "cell_type": "code",
   "execution_count": 187,
   "metadata": {},
   "outputs": [
    {
     "data": {
      "image/png": "[encoded data removed]",
      "text/plain": [
       "<Figure size 432x288 with 2 Axes>"
      ]
     },
     "metadata": {
      "needs_background": "light"
     },
     "output_type": "display_data"
    }
   ],
   "source": [
    "sns.heatmap(df_oh.corr());"
   ]
  },
  {
   "cell_type": "markdown",
   "metadata": {},
   "source": [
    "## Entering new data\n",
    "\n",
    "The 2018 estimates!"
   ]
  },
  {
   "cell_type": "code",
   "execution_count": 232,
   "metadata": {},
   "outputs": [],
   "source": [
    "census = pd.read_csv('Data/Iowa_2018_census.csv')\n",
    "\n",
    "census = census[census['Year'] == '2018 population estimate']\n",
    "census = census.drop(['State Name', 'State', 'Sumlev', 'Number of Records', 'Year', 'County', 'Hispanic or Latino origin'], axis=1)\n",
    "census['County Name'] = census['County Name'].map(lambda x: x.replace(' County', ''))"
   ]
  },
  {
   "cell_type": "code",
   "execution_count": 233,
   "metadata": {},
   "outputs": [
    {
     "data": {
      "text/html": [
       "<div>\n",
       "<style scoped>\n",
       "    .dataframe tbody tr th:only-of-type {\n",
       "        vertical-align: middle;\n",
       "    }\n",
       "\n",
       "    .dataframe tbody tr th {\n",
       "        vertical-align: top;\n",
       "    }\n",
       "\n",
       "    .dataframe thead th {\n",
       "        text-align: right;\n",
       "    }\n",
       "</style>\n",
       "<table border=\"1\" class=\"dataframe\">\n",
       "  <thead>\n",
       "    <tr style=\"text-align: right;\">\n",
       "      <th></th>\n",
       "      <th>Age group</th>\n",
       "      <th>County Name</th>\n",
       "      <th>Data</th>\n",
       "      <th>Sex</th>\n",
       "      <th>Race</th>\n",
       "    </tr>\n",
       "  </thead>\n",
       "  <tbody>\n",
       "    <tr>\n",
       "      <th>19</th>\n",
       "      <td>Total population</td>\n",
       "      <td>Delaware</td>\n",
       "      <td>31</td>\n",
       "      <td>Female</td>\n",
       "      <td>Asian alone</td>\n",
       "    </tr>\n",
       "    <tr>\n",
       "      <th>20</th>\n",
       "      <td>0 to 4 years of age</td>\n",
       "      <td>Delaware</td>\n",
       "      <td>1</td>\n",
       "      <td>Female</td>\n",
       "      <td>Asian alone</td>\n",
       "    </tr>\n",
       "    <tr>\n",
       "      <th>21</th>\n",
       "      <td>5 to 9 years of age</td>\n",
       "      <td>Delaware</td>\n",
       "      <td>0</td>\n",
       "      <td>Female</td>\n",
       "      <td>Asian alone</td>\n",
       "    </tr>\n",
       "    <tr>\n",
       "      <th>22</th>\n",
       "      <td>10 to 14 years of age</td>\n",
       "      <td>Delaware</td>\n",
       "      <td>4</td>\n",
       "      <td>Female</td>\n",
       "      <td>Asian alone</td>\n",
       "    </tr>\n",
       "    <tr>\n",
       "      <th>23</th>\n",
       "      <td>15 to 19 years of age</td>\n",
       "      <td>Delaware</td>\n",
       "      <td>2</td>\n",
       "      <td>Female</td>\n",
       "      <td>Asian alone</td>\n",
       "    </tr>\n",
       "  </tbody>\n",
       "</table>\n",
       "</div>"
      ],
      "text/plain": [
       "                Age group County Name  Data     Sex         Race\n",
       "19       Total population    Delaware    31  Female  Asian alone\n",
       "20    0 to 4 years of age    Delaware     1  Female  Asian alone\n",
       "21    5 to 9 years of age    Delaware     0  Female  Asian alone\n",
       "22  10 to 14 years of age    Delaware     4  Female  Asian alone\n",
       "23  15 to 19 years of age    Delaware     2  Female  Asian alone"
      ]
     },
     "execution_count": 233,
     "metadata": {},
     "output_type": "execute_result"
    }
   ],
   "source": [
    "census.head()"
   ]
  },
  {
   "cell_type": "markdown",
   "metadata": {},
   "source": [
    "Idea here is that perhaps the male-female ratios will affect anything?"
   ]
  },
  {
   "cell_type": "code",
   "execution_count": 236,
   "metadata": {},
   "outputs": [
    {
     "data": {
      "text/plain": [
       "65 to 69 years of age       6237\n",
       "Total population            6237\n",
       "35 to 39 years of age       6237\n",
       "5 to 9 years of age         6237\n",
       "80 to 84 years of age       6237\n",
       "40 to 44 years of age       6237\n",
       "50 to 54 years of age       6237\n",
       "55 to 59 years of age       6237\n",
       "0 to 4 years of age         6237\n",
       "75 to 79 years of age       6237\n",
       "85 years of age and over    6237\n",
       "20 to 24 years of age       6237\n",
       "70 to 74 years of age       6237\n",
       "15 to 19 years of age       6237\n",
       "10 to 14 years of age       6237\n",
       "25 to 29 years of age       6237\n",
       "45 to 49 years of age       6237\n",
       "60 to 64 years of age       6237\n",
       "30 to 34 years of age       6237\n",
       "Name: Age group, dtype: int64"
      ]
     },
     "execution_count": 236,
     "metadata": {},
     "output_type": "execute_result"
    }
   ],
   "source": [
    "census['Age group'].value_counts()"
   ]
  },
  {
   "cell_type": "code",
   "execution_count": 226,
   "metadata": {},
   "outputs": [
    {
     "data": {
      "text/plain": [
       "(118503, 7)"
      ]
     },
     "execution_count": 226,
     "metadata": {},
     "output_type": "execute_result"
    }
   ],
   "source": [
    "census.shape"
   ]
  },
  {
   "cell_type": "code",
   "execution_count": 227,
   "metadata": {},
   "outputs": [
    {
     "data": {
      "text/plain": [
       "Age group                    0\n",
       "County                       0\n",
       "County Name                  0\n",
       "Data                         0\n",
       "Sex                          0\n",
       "Hispanic or Latino origin    0\n",
       "Race                         0\n",
       "dtype: int64"
      ]
     },
     "execution_count": 227,
     "metadata": {},
     "output_type": "execute_result"
    }
   ],
   "source": [
    "census.isnull().sum()"
   ]
  },
  {
   "cell_type": "code",
   "execution_count": null,
   "metadata": {},
   "outputs": [],
   "source": []
  }
 ],
 "metadata": {
  "kernelspec": {
   "display_name": "Python 3",
   "language": "python",
   "name": "python3"
  },
  "language_info": {
   "codemirror_mode": {
    "name": "ipython",
    "version": 3
   },
   "file_extension": ".py",
   "mimetype": "text/x-python",
   "name": "python",
   "nbconvert_exporter": "python",
   "pygments_lexer": "ipython3",
   "version": "3.7.4"
  }
 },
 "nbformat": 4,
 "nbformat_minor": 4
}
